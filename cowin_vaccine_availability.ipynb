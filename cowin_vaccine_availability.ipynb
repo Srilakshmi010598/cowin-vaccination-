{
 "cells": [
  {
   "cell_type": "code",
   "execution_count": 1,
   "metadata": {},
   "outputs": [],
   "source": [
    "import requests\n",
    "import json \n",
    "import datetime\n"
   ]
  },
  {
   "cell_type": "code",
   "execution_count": 2,
   "metadata": {},
   "outputs": [],
   "source": [
    "BASE_URL = URL = 'https://cdn-api.co-vin.in/api/v2/appointment/sessions/public/calendarByPin?'"
   ]
  },
  {
   "cell_type": "code",
   "execution_count": 3,
   "metadata": {},
   "outputs": [
    {
     "name": "stdout",
     "output_type": "stream",
     "text": [
      "Enter age 47\n",
      "Enter pincode 635109\n",
      "Enter no of days within which you want to get vaccinated 25\n"
     ]
    }
   ],
   "source": [
    "age = int(input('Enter age '))\n",
    "pincode = input('Enter pincode ')\n",
    "buffer_days = int(input('Enter no of days within which you want to get vaccinated '))"
   ]
  },
  {
   "cell_type": "code",
   "execution_count": 4,
   "metadata": {},
   "outputs": [
    {
     "name": "stdout",
     "output_type": "stream",
     "text": [
      "2021-05-17 22:29:30.286926\n"
     ]
    }
   ],
   "source": [
    "today = datetime.datetime.today()\n",
    "print(today)\n",
    "dates = [today+datetime.timedelta(x) for x in range(buffer_days)]\n",
    "dates_formatted = [x.strftime('%d-%m-%Y') for x in dates]"
   ]
  },
  {
   "cell_type": "code",
   "execution_count": 5,
   "metadata": {},
   "outputs": [],
   "source": [
    "headers = {\n",
    "    'User-Agent': \"Mozilla/5.0 (Windows NT 10.0; Win64; x64) AppleWebKit/537.36 (KHTML, like Gecko) Chrome/70.0.3538.77 Safari/537.36\"\n",
    "}"
   ]
  },
  {
   "cell_type": "code",
   "execution_count": 6,
   "metadata": {},
   "outputs": [
    {
     "name": "stdout",
     "output_type": "stream",
     "text": [
      "Available on :17-05-2021\n",
      "Center:  Appavoo Nagar UPHC\n",
      "Address: Vaishnavi Nagar NH Bangalore Road Hosur Krishagiri Dt\n",
      "from: 09:00:00\n",
      "to: 17:00:00\n",
      " Vaccine:  COVISHIELD\n",
      "\n",
      "\n",
      "\n",
      "\n",
      "Available on :17-05-2021\n",
      "Center:  Muthali APHC\n",
      "Address: Chinna Muthali Muthali Village Post Hosur Tk\n",
      "from: 09:00:00\n",
      "to: 17:00:00\n",
      " Vaccine:  COVISHIELD\n",
      "\n",
      "\n",
      "\n",
      "\n",
      "Available on :17-05-2021\n",
      "Center:  Seetharam Nagar UPHC\n",
      "Address: No 765 - 1 VOC Nagar Hosur Krishagiri Dt\n",
      "from: 09:00:00\n",
      "to: 17:00:00\n",
      " Vaccine:  COVISHIELD\n",
      "\n",
      "\n",
      "\n",
      "\n",
      "Available on :17-05-2021\n",
      "Center:  Thorapalli APHC\n",
      "Address: Thorapalli Village Post\n",
      "from: 09:00:00\n",
      "to: 17:00:00\n",
      " Vaccine:  COVISHIELD\n",
      "\n",
      "\n",
      "\n",
      "\n",
      "Available on :17-05-2021\n",
      "Center:  Hosur GH 1\n",
      "Address: Hosur\n",
      "from: 09:00:00\n",
      "to: 17:00:00\n",
      " Vaccine:  COVAXIN\n",
      "\n",
      "\n",
      "\n",
      "\n",
      "Available on :17-05-2021\n",
      "Center:  Kothakondapalli APHC\n",
      "Address: Kothakondapalli Village Post Hosur\n",
      "from: 09:00:00\n",
      "to: 17:00:00\n",
      " Vaccine:  COVISHIELD\n",
      "\n",
      "\n",
      "\n",
      "\n",
      "Available on :17-05-2021\n",
      "Center:  Avalapalli UPHC\n",
      "Address: Bharathiyar Nagar Thotagiri Road Hosur\n",
      "from: 09:00:00\n",
      "to: 17:00:00\n",
      " Vaccine:  COVISHIELD\n",
      "\n",
      "\n",
      "\n",
      "\n",
      "Available on :17-05-2021\n",
      "Center:  Hosur G.H\n",
      "Address: Institutional\n",
      "from: 09:00:00\n",
      "to: 17:00:00\n",
      " Vaccine:  COVISHIELD\n",
      "\n",
      "\n",
      "\n",
      "\n",
      "Available on :17-05-2021\n",
      "Center:  Kamandoddi Upgraded PHC\n",
      "Address: Kamandoddi Village Shoolagiri Tk Krishnagiri Dt\n",
      "from: 09:00:00\n",
      "to: 17:00:00\n",
      " Vaccine:  COVISHIELD\n",
      "\n",
      "\n",
      "\n",
      "\n",
      "Available on :18-05-2021\n",
      "Center:  Kamandoddi Upgraded PHC\n",
      "Address: Kamandoddi Village Shoolagiri Tk Krishnagiri Dt\n",
      "from: 09:00:00\n",
      "to: 17:00:00\n",
      " Vaccine:  COVISHIELD\n",
      "\n",
      "\n",
      "\n",
      "\n",
      "Available on :19-05-2021\n",
      "Center:  Kamandoddi Upgraded PHC\n",
      "Address: Kamandoddi Village Shoolagiri Tk Krishnagiri Dt\n",
      "from: 09:00:00\n",
      "to: 17:00:00\n",
      " Vaccine:  COVISHIELD\n",
      "\n",
      "\n",
      "\n",
      "\n",
      "Available on :20-05-2021\n",
      "Center:  Kamandoddi Upgraded PHC\n",
      "Address: Kamandoddi Village Shoolagiri Tk Krishnagiri Dt\n",
      "from: 09:00:00\n",
      "to: 17:00:00\n",
      " Vaccine:  COVISHIELD\n",
      "\n",
      "\n",
      "\n",
      "\n",
      "No slots available on:  21-05-2021\n",
      "No slots available on:  22-05-2021\n",
      "No slots available on:  23-05-2021\n",
      "No slots available on:  24-05-2021\n",
      "No slots available on:  25-05-2021\n",
      "No slots available on:  26-05-2021\n",
      "No slots available on:  27-05-2021\n",
      "No slots available on:  28-05-2021\n",
      "No slots available on:  29-05-2021\n",
      "No slots available on:  30-05-2021\n",
      "No slots available on:  31-05-2021\n",
      "No slots available on:  01-06-2021\n",
      "No slots available on:  02-06-2021\n",
      "No slots available on:  03-06-2021\n",
      "No slots available on:  04-06-2021\n",
      "No slots available on:  05-06-2021\n",
      "No slots available on:  06-06-2021\n",
      "No slots available on:  07-06-2021\n",
      "No slots available on:  08-06-2021\n",
      "No slots available on:  09-06-2021\n",
      "No slots available on:  10-06-2021\n"
     ]
    }
   ],
   "source": [
    "for date in dates_formatted:\n",
    "    hit_url=BASE_URL+'pincode='+pincode+'&date='+date\n",
    "    response = requests.get(hit_url,headers=headers)\n",
    "    if response.ok:\n",
    "        output = response.json()\n",
    "        if output[\"centers\"]:\n",
    "            for center in output['centers']:\n",
    "                for session in center['sessions']:\n",
    "                    if session['min_age_limit']<=age:\n",
    "                        print('Available on :{}'.format(date))\n",
    "                        print('Center: ',center['name'])\n",
    "                        print('Address:',center['address'])\n",
    "                        print('from:',center['from'])\n",
    "                        print('to:',center['to'])\n",
    "                        if(session[\"vaccine\"] != ''):\n",
    "                            print(\" Vaccine: \", session[\"vaccine\"])\n",
    "                        print(\"\\n\\n\\n\")\n",
    "        else:\n",
    "            print('No slots available on: ',date)\n",
    "    else:\n",
    "        print(response.reason)\n",
    "    "
   ]
  },
  {
   "cell_type": "code",
   "execution_count": null,
   "metadata": {},
   "outputs": [],
   "source": []
  },
  {
   "cell_type": "code",
   "execution_count": null,
   "metadata": {},
   "outputs": [],
   "source": []
  }
 ],
 "metadata": {
  "kernelspec": {
   "display_name": "Python 3",
   "language": "python",
   "name": "python3"
  },
  "language_info": {
   "codemirror_mode": {
    "name": "ipython",
    "version": 3
   },
   "file_extension": ".py",
   "mimetype": "text/x-python",
   "name": "python",
   "nbconvert_exporter": "python",
   "pygments_lexer": "ipython3",
   "version": "3.7.6"
  }
 },
 "nbformat": 4,
 "nbformat_minor": 4
}
